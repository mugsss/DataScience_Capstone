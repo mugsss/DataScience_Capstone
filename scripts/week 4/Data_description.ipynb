{
 "cells": [
  {
   "cell_type": "markdown",
   "metadata": {},
   "source": [
    "## Data Description"
   ]
  },
  {
   "cell_type": "markdown",
   "metadata": {},
   "source": [
    "#### Exploring Data :\n",
    "i)The data includes feature such as Borough, neighbourhood. \\\n",
    "ii)Use geopy library to get the latitude and longitude values of the neighbourhoods in New York City and Toronto.\n",
    "\n",
    "\n",
    "1)New York: \\\n",
    "The data is in json format. \\\n",
    "https://cf-courses-data.s3.us.cloud-object-storage.appdomain.cloud/IBMDeveloperSkillsNetwork-DS0701EN-SkillsNetwork/labs/newyork_data.json\n",
    "\n",
    "2)Toronto: \\\n",
    "For the Toronto neighborhood data, the below Wikipedia page exists that has all the information we need to explore and cluster the neighborhoods in Toronto. We will be required to scrape the Wikipedia page and wrangle the data, clean it, and then read it into a pandas  dataframe so that it is in a structured format like the New York dataset. The BeautifulSoup package will help in web scraping. \\\n",
    "https://en.wikipedia.org/w/index.php?title=List_of_postal_codes_of_Canada:_M&direction=prev&oldid=926287641\n",
    "\n",
    "\n",
    "#### Foursquare API \n",
    "In this project we will construct a Foursquare URL to send a request to the API to search for a specific type of venues, to explore a particular venue,to explore a geographical location, and to get trending venues around a location. Also, you will learn how to use the visualization library, Folium, to visualize the results.\n",
    "\n",
    "\n",
    "#### Analyze\n",
    "Lastly based on the venue categories we will cluster the data and provide insightful results."
   ]
  },
  {
   "cell_type": "code",
   "execution_count": null,
   "metadata": {},
   "outputs": [],
   "source": []
  }
 ],
 "metadata": {
  "kernelspec": {
   "display_name": "Python 3",
   "language": "python",
   "name": "python3"
  },
  "language_info": {
   "codemirror_mode": {
    "name": "ipython",
    "version": 3
   },
   "file_extension": ".py",
   "mimetype": "text/x-python",
   "name": "python",
   "nbconvert_exporter": "python",
   "pygments_lexer": "ipython3",
   "version": "3.8.3"
  }
 },
 "nbformat": 4,
 "nbformat_minor": 4
}
